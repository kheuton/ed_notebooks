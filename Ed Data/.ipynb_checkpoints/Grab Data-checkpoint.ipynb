{
 "cells": [
  {
   "cell_type": "code",
   "execution_count": 79,
   "metadata": {
    "collapsed": false
   },
   "outputs": [],
   "source": [
    "import os\n",
    "import pandas as pd\n",
    "import urllib\n",
    "import fiona\n",
    "import json\n",
    "import pyproj"
   ]
  },
  {
   "cell_type": "code",
   "execution_count": 80,
   "metadata": {
    "collapsed": false
   },
   "outputs": [],
   "source": [
    "cwd = os.getcwd()\n",
    "data_dir = os.path.join(cwd, 'data')\n",
    "if not os.path.exists(data_dir):\n",
    "    os.makedirs(data_dir)"
   ]
  },
  {
   "cell_type": "code",
   "execution_count": 81,
   "metadata": {
    "collapsed": false
   },
   "outputs": [],
   "source": [
    "data_2015_link = 'http://reportcard.ospi.k12.wa.us/Reports/2015/02_03_AIM-EOC-MSP-SBA%20Assessments%20School%20(with%20suppression%20-%20new%20format).csv'\n",
    "\n"
   ]
  },
  {
   "cell_type": "code",
   "execution_count": 82,
   "metadata": {
    "collapsed": false
   },
   "outputs": [
    {
     "data": {
      "text/plain": [
       "('/home/krheuton/notebooks/Ed Data/data/2015_AIM_EOC_MSP_SBA.csv',\n",
       " <httplib.HTTPMessage instance at 0x7fd4783097e8>)"
      ]
     },
     "execution_count": 82,
     "metadata": {},
     "output_type": "execute_result"
    }
   ],
   "source": [
    "os.chdir(data_dir)\n",
    "data_2015_path = os.path.join(data_dir, '2015_AIM_EOC_MSP_SBA.csv')\n",
    "urllib.urlretrieve(data_2015_link, data_2015_path)"
   ]
  },
  {
   "cell_type": "code",
   "execution_count": 76,
   "metadata": {
    "collapsed": false
   },
   "outputs": [
    {
     "ename": "NameError",
     "evalue": "name 'data_dir' is not defined",
     "output_type": "error",
     "traceback": [
      "\u001b[1;31m---------------------------------------------------------------------------\u001b[0m",
      "\u001b[1;31mNameError\u001b[0m                                 Traceback (most recent call last)",
      "\u001b[1;32m<ipython-input-76-c6401efa6570>\u001b[0m in \u001b[0;36m<module>\u001b[1;34m()\u001b[0m\n\u001b[0;32m      1\u001b[0m \u001b[0mdata_2014_link\u001b[0m \u001b[1;33m=\u001b[0m \u001b[1;34m'http://reportcard.ospi.k12.wa.us/Reports/2014/02_03_WaasPort-EOC-MSP-HSPE%20Assessments%20School%20(with%20suppression%20-%20new%20format).csv'\u001b[0m\u001b[1;33m\u001b[0m\u001b[0m\n\u001b[1;32m----> 2\u001b[1;33m \u001b[0mdata_2014_path\u001b[0m \u001b[1;33m=\u001b[0m \u001b[0mos\u001b[0m\u001b[1;33m.\u001b[0m\u001b[0mpath\u001b[0m\u001b[1;33m.\u001b[0m\u001b[0mjoin\u001b[0m\u001b[1;33m(\u001b[0m\u001b[0mdata_dir\u001b[0m\u001b[1;33m,\u001b[0m \u001b[1;34m'2014_WaasPort-Eoc_MSP_HSPE.csv'\u001b[0m\u001b[1;33m)\u001b[0m\u001b[1;33m\u001b[0m\u001b[0m\n\u001b[0m",
      "\u001b[1;31mNameError\u001b[0m: name 'data_dir' is not defined"
     ]
    }
   ],
   "source": [
    "data_2014_link = 'http://reportcard.ospi.k12.wa.us/Reports/2014/02_03_WaasPort-EOC-MSP-HSPE%20Assessments%20School%20(with%20suppression%20-%20new%20format).csv'\n",
    "data_2014_path = os.path.join(data_dir, '2014_WaasPort-Eoc_MSP_HSPE.csv')\n"
   ]
  },
  {
   "cell_type": "code",
   "execution_count": 3,
   "metadata": {
    "collapsed": false
   },
   "outputs": [],
   "source": [
    "import fiona\n",
    "poly_path = \"/home/krheuton/Downloads/SPS_AttendanceAreasAndSchools_Shapefiles_2015_2016_v2/sps_attendance_area_ES_2015_2016.shp\"\n",
    "myshp =  fiona.collection(poly_path, \"r\")"
   ]
  },
  {
   "cell_type": "code",
   "execution_count": 2,
   "metadata": {
    "collapsed": true
   },
   "outputs": [],
   "source": [
    "from pyproj import Proj, transform"
   ]
  },
  {
   "cell_type": "code",
   "execution_count": 70,
   "metadata": {
    "collapsed": true
   },
   "outputs": [],
   "source": [
    "import fiona\n",
    "from fiona.crs import from_epsg\n",
    "shape = fiona.open(poly_path)\n",
    "original = Proj(shape.crs,preserve_units=True) # EPSG:2926 "
   ]
  },
  {
   "cell_type": "code",
   "execution_count": 71,
   "metadata": {
    "collapsed": false,
    "scrolled": false
   },
   "outputs": [],
   "source": [
    "school_feat = []\n",
    "for feat in shape:\n",
    "    feat['properties'].update({'football':20})\n",
    "    \n",
    "    # Transform\n",
    "    out_linearRing = [] # empty list for the LinearRing of transformed coordinates\n",
    "    for point in feat['geometry']['coordinates'][0]: # LinearRing of the Polygon\n",
    "        longi, lati =  point  # one point of the LinearRing\n",
    "        x,y = original(longi, lati, inverse=True) # transform the point\n",
    "        out_linearRing.append((x,y)) # add all the points to the new LinearRing\n",
    "        \n",
    "    # transform the resulting LinearRing to  a Polygon and write it\n",
    "    feat['geometry']['coordinates'] = [out_linearRing]\n",
    "    \n",
    "    school_feat.append(feat)"
   ]
  },
  {
   "cell_type": "code",
   "execution_count": 72,
   "metadata": {
    "collapsed": true
   },
   "outputs": [],
   "source": [
    "my_layer = {\n",
    "    \"type\": \"FeatureCollection\",\n",
    "    \"features\": school_feat,\n",
    "    \"crs\": {\n",
    "        \"type\": \"link\", \n",
    "        \"properties\": {\"href\": \"http://spatialreference.org/ref/sr-org/6864/esriwkt/\",\n",
    "                       \"type\": \"esriwkt\"} }}"
   ]
  },
  {
   "cell_type": "code",
   "execution_count": 73,
   "metadata": {
    "collapsed": true
   },
   "outputs": [],
   "source": [
    "with open(\"my_layer.json\", \"w\") as f:\n",
    "    f.write(json.dumps(my_layer))"
   ]
  },
  {
   "cell_type": "code",
   "execution_count": 83,
   "metadata": {
    "collapsed": false
   },
   "outputs": [
    {
     "name": "stderr",
     "output_type": "stream",
     "text": [
      "/home/krheuton/anaconda2/lib/python2.7/site-packages/IPython/core/interactiveshell.py:2902: DtypeWarning: Columns (15) have mixed types. Specify dtype option on import or set low_memory=False.\n",
      "  interactivity=interactivity, compiler=compiler, result=result)\n"
     ]
    }
   ],
   "source": [
    "data_2015 = pd.read_csv(data_2015_path)"
   ]
  },
  {
   "cell_type": "code",
   "execution_count": 86,
   "metadata": {
    "collapsed": false
   },
   "outputs": [],
   "source": [
    "seattle_2015 = data_2015.query('District == \"Seattle Public Schools\"')"
   ]
  },
  {
   "cell_type": "code",
   "execution_count": 88,
   "metadata": {
    "collapsed": false
   },
   "outputs": [],
   "source": [
    "seattle_2015_sba = seattle_2015.query('testAdministration == \"SBA\"')\n",
    "seattle_2015_sba_3rd = seattle_2015_sba.query('GradeLevel == \"3rd\"')"
   ]
  },
  {
   "cell_type": "code",
   "execution_count": 97,
   "metadata": {
    "collapsed": false
   },
   "outputs": [],
   "source": [
    "seattle_2015_assessments = seattle_2015.groupby(['testAdministration', 'Subject', 'GradeLevel'])"
   ]
  },
  {
   "cell_type": "code",
   "execution_count": 123,
   "metadata": {
    "collapsed": false
   },
   "outputs": [],
   "source": [
    "assessment_dict = {}\n",
    "opp_gap_dict = {}\n",
    "for name, group in seattle_2015_assessments:\n",
    "    \n",
    "    assessment_schools = group.groupby(['School'])\n",
    "    \n",
    "    unsupressed_schools = 0\n",
    "    \n",
    "    assessment_gap_dict = {}\n",
    "    \n",
    "    \n",
    "    for school, students in assessment_schools:\n",
    "        white_students = students.query('StudentGroup == \"White\"')\n",
    "        black_students = students.query('StudentGroup == \"Black / African American\"')\n",
    "\n",
    "        white_suppressed = True\n",
    "        black_suppressed = True\n",
    "\n",
    "        if len(white_students) > 0:\n",
    "            white_suppressed = white_students['suppressed'].values[0] == 'y'\n",
    "\n",
    "        if len(black_students) > 0:\n",
    "            black_suppressed = black_students['suppressed'].values[0] == 'y'\n",
    "            \n",
    "        missing = 'none'\n",
    "            \n",
    "        if white_suppressed:\n",
    "            missing = 'white'\n",
    "            white_value = 76.5\n",
    "        else:\n",
    "            white_value = float(white_students['PercentMetStandardIncludingPP'].values[0])\n",
    "            \n",
    "        if black_suppressed:\n",
    "            missing = 'black'\n",
    "            black_value = 33.3\n",
    "        else:\n",
    "            black_value = float(black_students['PercentMetStandardIncludingPP'].values[0])\n",
    "            \n",
    "        \n",
    "\n",
    "        unsupressed_schools += 1\n",
    "        assessment_gap_dict[school] = ( white_value- \n",
    "                                        black_value,\n",
    "                                       missing)\n",
    "            \n",
    "    assessment_dict[name] = unsupressed_schools\n",
    "    opp_gap_dict[name] = assessment_gap_dict"
   ]
  },
  {
   "cell_type": "code",
   "execution_count": 110,
   "metadata": {
    "collapsed": false
   },
   "outputs": [
    {
     "data": {
      "text/plain": [
       "{('AIM', 'ELA', '11th'): 0,\n",
       " ('AIM', 'ELA', '3rd'): 0,\n",
       " ('AIM', 'ELA', '4th'): 0,\n",
       " ('AIM', 'ELA', '5th'): 0,\n",
       " ('AIM', 'ELA', '6th'): 0,\n",
       " ('AIM', 'ELA', '7th'): 0,\n",
       " ('AIM', 'ELA', '8th'): 0,\n",
       " ('AIM', 'Math', '11th'): 0,\n",
       " ('AIM', 'Math', '3rd'): 0,\n",
       " ('AIM', 'Math', '4th'): 0,\n",
       " ('AIM', 'Math', '5th'): 0,\n",
       " ('AIM', 'Math', '6th'): 0,\n",
       " ('AIM', 'Math', '7th'): 0,\n",
       " ('AIM', 'Math', '8th'): 0,\n",
       " ('AIM', 'Science', '5th'): 0,\n",
       " ('AIM', 'Science', '8th'): 0,\n",
       " ('EOC', 'Biology', '10th'): 6,\n",
       " ('MSP', 'Science', '5th'): 7,\n",
       " ('MSP', 'Science', '8th'): 4,\n",
       " ('SBA', 'ELA', '11th'): 4,\n",
       " ('SBA', 'ELA', '3rd'): 11,\n",
       " ('SBA', 'ELA', '4th'): 10,\n",
       " ('SBA', 'ELA', '5th'): 7,\n",
       " ('SBA', 'ELA', '6th'): 10,\n",
       " ('SBA', 'ELA', '7th'): 9,\n",
       " ('SBA', 'ELA', '8th'): 5,\n",
       " ('SBA', 'MATH', '11th'): 1,\n",
       " ('SBA', 'MATH', '3rd'): 10,\n",
       " ('SBA', 'MATH', '4th'): 10,\n",
       " ('SBA', 'MATH', '5th'): 6,\n",
       " ('SBA', 'MATH', '6th'): 10,\n",
       " ('SBA', 'MATH', '7th'): 9,\n",
       " ('SBA', 'MATH', '8th'): 5}"
      ]
     },
     "execution_count": 110,
     "metadata": {},
     "output_type": "execute_result"
    }
   ],
   "source": [
    "assessment_dict"
   ]
  },
  {
   "cell_type": "code",
   "execution_count": null,
   "metadata": {
    "collapsed": false,
    "scrolled": true
   },
   "outputs": [],
   "source": [
    "opp_gap_dict[ ('SBA', 'ELA', '3rd')]"
   ]
  },
  {
   "cell_type": "code",
   "execution_count": 129,
   "metadata": {
    "collapsed": false,
    "scrolled": true
   },
   "outputs": [],
   "source": [
    "name_df = pd.read_csv('./name_mapping.csv')"
   ]
  },
  {
   "cell_type": "code",
   "execution_count": 131,
   "metadata": {
    "collapsed": false
   },
   "outputs": [],
   "source": [
    "name_map = {shape: data for shape,data in zip(name_df['Shape name'].values, name_df['Data name'].values)}"
   ]
  },
  {
   "cell_type": "code",
   "execution_count": 141,
   "metadata": {
    "collapsed": false
   },
   "outputs": [],
   "source": [
    "school_feat = []\n",
    "gaps = []\n",
    "data_dict = opp_gap_dict[ ('SBA', 'ELA', '3rd')]\n",
    "for feat in shape:\n",
    "    name = feat['properties']['ES_ZONE']\n",
    "    \n",
    "    name = name_map[name]\n",
    "    \n",
    "    gap, missing = data_dict[name]\n",
    "    gap = \"{gap:.1f}\".format(gap=gap)\n",
    "    gaps.append(gap)\n",
    "    \n",
    "    feat['properties'].update({'gap':gap, 'missing': missing})\n",
    "    \n",
    "    # Transform\n",
    "    out_linearRing = [] # empty list for the LinearRing of transformed coordinates\n",
    "    for point in feat['geometry']['coordinates'][0]: # LinearRing of the Polygon\n",
    "        longi, lati =  point  # one point of the LinearRing\n",
    "        x,y = original(longi, lati, inverse=True) # transform the point\n",
    "        out_linearRing.append((x,y)) # add all the points to the new LinearRing\n",
    "        \n",
    "    # transform the resulting LinearRing to  a Polygon and write it\n",
    "    feat['geometry']['coordinates'] = [out_linearRing]\n",
    "    \n",
    "    school_feat.append(feat)"
   ]
  },
  {
   "cell_type": "code",
   "execution_count": 144,
   "metadata": {
    "collapsed": true
   },
   "outputs": [],
   "source": [
    "my_layer = {\n",
    "    \"type\": \"FeatureCollection\",\n",
    "    \"features\": school_feat,\n",
    "    \"crs\": {\n",
    "        \"type\": \"link\", \n",
    "        \"properties\": {\"href\": \"http://spatialreference.org/ref/sr-org/6864/esriwkt/\",\n",
    "                       \"type\": \"esriwkt\"} }}"
   ]
  },
  {
   "cell_type": "code",
   "execution_count": 145,
   "metadata": {
    "collapsed": true
   },
   "outputs": [],
   "source": [
    "with open(\"my_layer.json\", \"w\") as f:\n",
    "    f.write('var schoolData = ')\n",
    "    f.write(json.dumps(my_layer))"
   ]
  },
  {
   "cell_type": "code",
   "execution_count": 133,
   "metadata": {
    "collapsed": true
   },
   "outputs": [],
   "source": [
    "hs_poly_path = \"/home/krheuton/Downloads/SPS_AttendanceAreasAndSchools_Shapefiles_2015_2016_v2/sps_attendance_area_HS_2015_2016.shp\"\n",
    "hs_shp =  fiona.collection(hs_poly_path, \"r\")"
   ]
  },
  {
   "cell_type": "code",
   "execution_count": 118,
   "metadata": {
    "collapsed": false
   },
   "outputs": [
    {
     "name": "stdout",
     "output_type": "stream",
     "text": [
      "OrderedDict([(u'HS_ZONE', u'Ballard')])\n",
      "OrderedDict([(u'HS_ZONE', u'Franklin')])\n",
      "OrderedDict([(u'HS_ZONE', u'Garfield')])\n",
      "OrderedDict([(u'HS_ZONE', u'Roosevelt')])\n",
      "OrderedDict([(u'HS_ZONE', u\"Chief Sealth Int'l\")])\n",
      "OrderedDict([(u'HS_ZONE', u'West Seattle HS')])\n",
      "OrderedDict([(u'HS_ZONE', u\"Ingraham Int'l\")])\n",
      "OrderedDict([(u'HS_ZONE', u'Rainier Beach')])\n",
      "OrderedDict([(u'HS_ZONE', u'Nathan Hale')])\n"
     ]
    }
   ],
   "source": [
    "for thing in hs_shp:\n",
    "    print thing['properties']"
   ]
  },
  {
   "cell_type": "code",
   "execution_count": 121,
   "metadata": {
    "collapsed": false
   },
   "outputs": [
    {
     "data": {
      "text/plain": [
       "9"
      ]
     },
     "execution_count": 121,
     "metadata": {},
     "output_type": "execute_result"
    }
   ],
   "source": [
    "len(hs_shp)"
   ]
  },
  {
   "cell_type": "code",
   "execution_count": 142,
   "metadata": {
    "collapsed": false
   },
   "outputs": [
    {
     "data": {
      "text/plain": [
       "'12.9'"
      ]
     },
     "execution_count": 142,
     "metadata": {},
     "output_type": "execute_result"
    }
   ],
   "source": [
    "min(gaps)"
   ]
  },
  {
   "cell_type": "code",
   "execution_count": 143,
   "metadata": {
    "collapsed": false
   },
   "outputs": [
    {
     "data": {
      "text/plain": [
       "['49.1',\n",
       " '38.6',\n",
       " '41.0',\n",
       " '45.2',\n",
       " '50.0',\n",
       " '38.5',\n",
       " '51.3',\n",
       " '61.6',\n",
       " '56.4',\n",
       " '42.1',\n",
       " '43.2',\n",
       " '39.1',\n",
       " '48.0',\n",
       " '41.5',\n",
       " '53.0',\n",
       " '57.8',\n",
       " '39.0',\n",
       " '41.4',\n",
       " '43.2',\n",
       " '41.7',\n",
       " '39.6',\n",
       " '59.0',\n",
       " '43.2',\n",
       " '28.0',\n",
       " '39.7',\n",
       " '21.8',\n",
       " '52.4',\n",
       " '45.0',\n",
       " '35.9',\n",
       " '55.7',\n",
       " '57.3',\n",
       " '37.7',\n",
       " '43.2',\n",
       " '43.2',\n",
       " '48.5',\n",
       " '54.7',\n",
       " '43.2',\n",
       " '60.4',\n",
       " '3.8',\n",
       " '68.1',\n",
       " '12.9',\n",
       " '15.2',\n",
       " '69.4',\n",
       " '58.0',\n",
       " '25.0',\n",
       " '38.5',\n",
       " '25.6',\n",
       " '43.2',\n",
       " '62.7',\n",
       " '35.4',\n",
       " '47.7',\n",
       " '43.1',\n",
       " '59.6',\n",
       " '52.9',\n",
       " '30.4',\n",
       " '43.3',\n",
       " '38.7']"
      ]
     },
     "execution_count": 143,
     "metadata": {},
     "output_type": "execute_result"
    }
   ],
   "source": [
    "gaps"
   ]
  },
  {
   "cell_type": "code",
   "execution_count": null,
   "metadata": {
    "collapsed": true
   },
   "outputs": [],
   "source": []
  }
 ],
 "metadata": {
  "kernelspec": {
   "display_name": "Python 2",
   "language": "python",
   "name": "python2"
  },
  "language_info": {
   "codemirror_mode": {
    "name": "ipython",
    "version": 2
   },
   "file_extension": ".py",
   "mimetype": "text/x-python",
   "name": "python",
   "nbconvert_exporter": "python",
   "pygments_lexer": "ipython2",
   "version": "2.7.11"
  }
 },
 "nbformat": 4,
 "nbformat_minor": 0
}
